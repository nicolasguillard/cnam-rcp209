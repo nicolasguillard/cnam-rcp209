{
 "cells": [
  {
   "cell_type": "markdown",
   "metadata": {},
   "source": [
    "# Calcul des coordonnées des coins d'un champ récepteur d'activation"
   ]
  },
  {
   "cell_type": "code",
   "execution_count": 1,
   "metadata": {},
   "outputs": [],
   "source": [
    "import torch\n",
    "import torch.nn as nn\n",
    "import torchvision.models as models"
   ]
  },
  {
   "cell_type": "code",
   "execution_count": 2,
   "metadata": {},
   "outputs": [],
   "source": [
    "def get_receptive_field(pos, k, s, p):\n",
    "    _to_tuple = lambda v: (v, v)\n",
    "    if type(k) == int:\n",
    "        k = _to_tuple(k)\n",
    "    if type(s) == int:\n",
    "        s = _to_tuple(s)\n",
    "    if type(p) == int:\n",
    "        p = _to_tuple(p)\n",
    "    column = -p[1] + pos[1] * s[1]\n",
    "    row = -p[0] + pos[0] * s[0]\n",
    "    return (row, column), (row+k[1], column+k[0])"
   ]
  },
  {
   "cell_type": "code",
   "execution_count": 3,
   "metadata": {},
   "outputs": [],
   "source": [
    "def get_receptive_field_conv2d(pos, k, s, p):\n",
    "    return get_receptive_field(pos, k, s, p)"
   ]
  },
  {
   "cell_type": "code",
   "execution_count": 4,
   "metadata": {},
   "outputs": [],
   "source": [
    "def get_receptive_field_pool2d(pos, k, s, p): \n",
    "    return get_receptive_field(pos, k, s, p)"
   ]
  },
  {
   "cell_type": "code",
   "execution_count": 5,
   "metadata": {},
   "outputs": [
    {
     "data": {
      "text/plain": [
       "Sequential(\n",
       "  (0): Conv2d(3, 64, kernel_size=(11, 11), stride=(4, 4), padding=(2, 2))\n",
       "  (1): ReLU(inplace=True)\n",
       "  (2): MaxPool2d(kernel_size=3, stride=2, padding=0, dilation=1, ceil_mode=False)\n",
       "  (3): Conv2d(64, 192, kernel_size=(5, 5), stride=(1, 1), padding=(2, 2))\n",
       "  (4): ReLU(inplace=True)\n",
       "  (5): MaxPool2d(kernel_size=3, stride=2, padding=0, dilation=1, ceil_mode=False)\n",
       "  (6): Conv2d(192, 384, kernel_size=(3, 3), stride=(1, 1), padding=(1, 1))\n",
       "  (7): ReLU(inplace=True)\n",
       "  (8): Conv2d(384, 256, kernel_size=(3, 3), stride=(1, 1), padding=(1, 1))\n",
       "  (9): ReLU(inplace=True)\n",
       "  (10): Conv2d(256, 256, kernel_size=(3, 3), stride=(1, 1), padding=(1, 1))\n",
       "  (11): ReLU(inplace=True)\n",
       "  (12): MaxPool2d(kernel_size=3, stride=2, padding=0, dilation=1, ceil_mode=False)\n",
       ")"
      ]
     },
     "execution_count": 5,
     "metadata": {},
     "output_type": "execute_result"
    }
   ],
   "source": [
    "model = models.alexnet(weights='IMAGENET1K_V1')\n",
    "model.eval()\n",
    "model.features"
   ]
  },
  {
   "cell_type": "code",
   "execution_count": 17,
   "metadata": {},
   "outputs": [
    {
     "name": "stdout",
     "output_type": "stream",
     "text": [
      "MaxPool2d(kernel_size=3, stride=2, padding=0, dilation=1, ceil_mode=False)\n",
      "(40, 40) (43, 43)\n",
      "ReLU(inplace=True)\n",
      "(40, 40) (43, 43)\n",
      "Conv2d(3, 64, kernel_size=(11, 11), stride=(4, 4), padding=(2, 2))\n",
      "(158, 158) (181, 181)\n"
     ]
    }
   ],
   "source": [
    "pos_a = (20, 20)\n",
    "idx_module = 3\n",
    "\n",
    "tlc, brc = pos_a, pos_a\n",
    "for module in reversed(model.features[:idx_module]):\n",
    "    print(module)\n",
    "    if isinstance(module, nn.Conv2d):\n",
    "        tlc, _ = get_receptive_field_conv2d(tlc, module.kernel_size, module.stride, module.padding)\n",
    "        _, brc = get_receptive_field_conv2d(brc, module.kernel_size, module.stride, module.padding)\n",
    "    elif isinstance(module, nn.MaxPool2d):\n",
    "        tlc, _ = get_receptive_field_pool2d(tlc, module.kernel_size, module.stride, module.padding)\n",
    "        _, brc = get_receptive_field_pool2d(brc, module.kernel_size, module.stride, module.padding)\n",
    "    print(tlc, brc)\n"
   ]
  },
  {
   "cell_type": "code",
   "execution_count": 16,
   "metadata": {},
   "outputs": [
    {
     "name": "stdout",
     "output_type": "stream",
     "text": [
      "((158, 158), (181, 181))\n"
     ]
    }
   ],
   "source": [
    "input_size = torch.Size([1, 3, 224, 224])\n",
    "receptive_field = (\n",
    "    (max(0, tlc[0]), max(0, tlc[1])),\n",
    "    (min(input_size[2], brc[0]), min(input_size[3], brc[1]))\n",
    ")\n",
    "print(receptive_field)\n"
   ]
  },
  {
   "cell_type": "code",
   "execution_count": null,
   "metadata": {},
   "outputs": [],
   "source": []
  }
 ],
 "metadata": {
  "kernelspec": {
   "display_name": "udacity_cnn_project",
   "language": "python",
   "name": "python3"
  },
  "language_info": {
   "codemirror_mode": {
    "name": "ipython",
    "version": 3
   },
   "file_extension": ".py",
   "mimetype": "text/x-python",
   "name": "python",
   "nbconvert_exporter": "python",
   "pygments_lexer": "ipython3",
   "version": "3.11.8"
  }
 },
 "nbformat": 4,
 "nbformat_minor": 2
}
